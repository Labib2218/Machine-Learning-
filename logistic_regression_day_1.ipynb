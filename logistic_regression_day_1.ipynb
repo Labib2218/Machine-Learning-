{
 "cells": [
  {
   "cell_type": "code",
   "execution_count": null,
   "id": "ce91d599-d544-4150-90cb-af260a5d6abd",
   "metadata": {},
   "outputs": [],
   "source": [
    "import pandas as pd\n",
    "import numpy as np\n",
    "import plotly.express as px\n",
    "import matplotlib\n",
    "import matplotlib.pyplot as plt\n",
    "import seaborn as sns\n",
    "%matplotlib inline"
   ]
  },
  {
   "cell_type": "code",
   "execution_count": null,
   "id": "ab4e678f-f9ea-4164-9bde-91580a9188de",
   "metadata": {},
   "outputs": [],
   "source": [
    "weather_df = pd.read_csv('weatherAUS.csv')"
   ]
  },
  {
   "cell_type": "code",
   "execution_count": null,
   "id": "0602d915-2f80-4d3f-a5db-493ec8625a76",
   "metadata": {},
   "outputs": [],
   "source": [
    "weather_df.describe"
   ]
  },
  {
   "cell_type": "code",
   "execution_count": null,
   "id": "8fbc91fd-c036-495c-9421-d8e2fe6c3830",
   "metadata": {},
   "outputs": [],
   "source": [
    "weather_df"
   ]
  },
  {
   "cell_type": "code",
   "execution_count": null,
   "id": "248c20ca-9820-4b9e-b903-6add85801b4a",
   "metadata": {},
   "outputs": [],
   "source": [
    "fig= px.histogram(weather_df,\n",
    "                  x='Date',\n",
    "                  y='MaxTemp',\n",
    "                  title='Maximun Temperature with Dates')\n",
    "fig.update_layout(bargap=0.1)\n",
    "fig.show()"
   ]
  },
  {
   "cell_type": "code",
   "execution_count": null,
   "id": "5d5696c6-b260-46c0-9bff-27cce9241839",
   "metadata": {},
   "outputs": [],
   "source": [
    "weather_df.info()"
   ]
  },
  {
   "cell_type": "code",
   "execution_count": null,
   "id": "ff284e7b-d3d5-4513-b4b4-504de27a3248",
   "metadata": {},
   "outputs": [],
   "source": [
    "weather_df.dropna(subset=['RainToday','RainTomorrow'],inplace=True)"
   ]
  },
  {
   "cell_type": "code",
   "execution_count": null,
   "id": "a420af2e-880e-49bd-94a4-22a7bd6dbf22",
   "metadata": {},
   "outputs": [],
   "source": [
    "weather_df.info()"
   ]
  },
  {
   "cell_type": "code",
   "execution_count": null,
   "id": "c7bb8f91-a95f-42ad-b1c6-d74937c5f2a8",
   "metadata": {},
   "outputs": [],
   "source": [
    "fig= px.histogram(weather_df,\n",
    "                  x='Location',\n",
    "                  color ='RainToday',\n",
    "                  title='Maximun Temperature with Dates')\n",
    "fig.update_layout(bargap=0.1)\n",
    "fig.show()"
   ]
  },
  {
   "cell_type": "code",
   "execution_count": null,
   "id": "8e09046c-9b93-497b-8140-ad2516058e17",
   "metadata": {},
   "outputs": [],
   "source": [
    "fig= px.histogram(weather_df,\n",
    "                  x='MaxTemp',\n",
    "                  color ='RainToday',\n",
    "                  title='Location vs Rainyday')\n",
    "fig.update_layout(bargap=0.1)\n",
    "fig.show()"
   ]
  },
  {
   "cell_type": "code",
   "execution_count": null,
   "id": "d729d981-eb19-427d-aef7-83822a06d96d",
   "metadata": {},
   "outputs": [],
   "source": [
    "fig= px.histogram(weather_df,\n",
    "                  x='Temp3pm',\n",
    "                  color ='RainToday',\n",
    "                  title='3PM temperature vs RainToday')\n",
    "fig.update_layout(bargap=0.1)\n",
    "fig.show()"
   ]
  },
  {
   "cell_type": "code",
   "execution_count": null,
   "id": "480d1a32-d833-401b-92f1-479e26316659",
   "metadata": {},
   "outputs": [],
   "source": [
    "fig= px.histogram(weather_df,\n",
    "                  x='RainTomorrow',\n",
    "                  color ='RainToday',\n",
    "                  title='RainToday vs RainTomorrow')\n",
    "fig.update_layout(bargap=0.1)\n",
    "fig.show()"
   ]
  },
  {
   "cell_type": "code",
   "execution_count": null,
   "id": "7cbdea9e-f565-4c4d-925b-fe5359c00909",
   "metadata": {},
   "outputs": [],
   "source": [
    "weather_df.nunique()"
   ]
  },
  {
   "cell_type": "code",
   "execution_count": null,
   "id": "3140c599-8e73-40e4-ab06-ddb91c1fa600",
   "metadata": {},
   "outputs": [],
   "source": [
    "weather_df.Location.nunique()"
   ]
  },
  {
   "cell_type": "code",
   "execution_count": null,
   "id": "2c4e19d7-76a8-42dc-8ef7-7c0e9988d17c",
   "metadata": {},
   "outputs": [],
   "source": [
    "fig =px.scatter(weather_df.sample(2000),\n",
    "                x='MaxTemp',\n",
    "                y='MinTemp',\n",
    "                title='Maximun Temperature vs Minimum Temperature',\n",
    "                color= 'RainToday')\n",
    "fig.show()"
   ]
  },
  {
   "cell_type": "code",
   "execution_count": null,
   "id": "3869e412-614a-47a8-b6a8-0bf477453a83",
   "metadata": {},
   "outputs": [],
   "source": [
    "fig= px.strip(weather_df.sample(2000),\n",
    "              title='3PM temp vs 3PM humidity',\n",
    "              x='Temp3pm',\n",
    "              y='Humidity3pm',\n",
    "              color='RainToday')\n",
    "fig.show()"
   ]
  },
  {
   "cell_type": "code",
   "execution_count": null,
   "id": "d52fdaa3-6e56-4a3c-ada6-0e14a347476a",
   "metadata": {},
   "outputs": [],
   "source": []
  },
  {
   "cell_type": "code",
   "execution_count": null,
   "id": "7c3fb634-f2a3-4bd5-a69d-49b96593a381",
   "metadata": {},
   "outputs": [],
   "source": [
    "from sklearn.model_selection import train_test_split as tts"
   ]
  },
  {
   "cell_type": "code",
   "execution_count": null,
   "id": "d8815ab3-990f-4a25-990c-2c87ea273903",
   "metadata": {},
   "outputs": [],
   "source": [
    "train_val_df,test_df=tts(weather_df, test_size=0.2, random_state=42)\n",
    "train_df,val_df=tts(train_val_df, test_size=0.25, random_state=42)"
   ]
  },
  {
   "cell_type": "code",
   "execution_count": null,
   "id": "8b221826-56e1-4833-b2e4-e3d952875b3f",
   "metadata": {},
   "outputs": [],
   "source": [
    "print(train_df.shape)\n",
    "print(test_df.shape)\n",
    "print(val_df.shape)"
   ]
  },
  {
   "cell_type": "code",
   "execution_count": null,
   "id": "1f1df2ef-872f-4117-8580-d468bf1609ad",
   "metadata": {},
   "outputs": [],
   "source": [
    "plt.title('No of Year')\n",
    "sns.countplot(x=pd.to_datetime(weather_df.Date).dt.year);"
   ]
  },
  {
   "cell_type": "code",
   "execution_count": null,
   "id": "f6713a23-f2c2-4789-b3ba-c527f291b41c",
   "metadata": {},
   "outputs": [],
   "source": [
    "year =pd.to_datetime(weather_df.Date).dt.year\n",
    "train_df= weather_df[year < 2015]\n",
    "val_df= weather_df[year==2015]\n",
    "test_df =weather_df[year>2015]"
   ]
  },
  {
   "cell_type": "code",
   "execution_count": null,
   "id": "64ef33ce-f18c-4115-acbe-e5b10ede76c6",
   "metadata": {},
   "outputs": [],
   "source": [
    "input_col = list(train_df.columns)[1:-1]\n",
    "target_col = 'RainTomorrow'"
   ]
  },
  {
   "cell_type": "code",
   "execution_count": null,
   "id": "c3db99f2-1460-4adf-b519-d6b9593dffd1",
   "metadata": {},
   "outputs": [],
   "source": [
    "train_input = train_df[input_col].copy()\n",
    "train_traget = train_df[target_col].copy()"
   ]
  },
  {
   "cell_type": "code",
   "execution_count": null,
   "id": "58365743-37a2-46c8-bde4-e46b208fb340",
   "metadata": {},
   "outputs": [],
   "source": [
    "val_input = val_df[input_col].copy()\n",
    "val_traget = val_df[target_col].copy()"
   ]
  },
  {
   "cell_type": "code",
   "execution_count": null,
   "id": "e16acbf8-a89a-4c3c-8043-4908bcfefb0b",
   "metadata": {},
   "outputs": [],
   "source": [
    "test_input = test_df[input_col].copy()\n",
    "test_traget = test_df[target_col].copy()"
   ]
  },
  {
   "cell_type": "code",
   "execution_count": null,
   "id": "17c038b9-7591-4ae8-b7ed-29cd0d89a6e5",
   "metadata": {},
   "outputs": [],
   "source": [
    "numeric_col = train_input.select_dtypes(include=np.number).columns.tolist()"
   ]
  },
  {
   "cell_type": "code",
   "execution_count": null,
   "id": "a173222c-d085-45ac-bd25-41f8239ea7ea",
   "metadata": {},
   "outputs": [],
   "source": [
    "categorical_col = train_input.select_dtypes('object').columns.tolist()\n",
    "categorical_col"
   ]
  },
  {
   "cell_type": "code",
   "execution_count": null,
   "id": "40cb1e5b-bf5b-4cac-929c-6824676df6e3",
   "metadata": {},
   "outputs": [],
   "source": [
    "train_input[numeric_col].describe()"
   ]
  },
  {
   "cell_type": "code",
   "execution_count": null,
   "id": "9ae5bf7c-417f-45ad-be0f-30d8fb50297d",
   "metadata": {},
   "outputs": [],
   "source": [
    "train_input[categorical_col].nunique()"
   ]
  },
  {
   "cell_type": "code",
   "execution_count": null,
   "id": "c961f093-2070-4641-bab4-b86bb7b1b7a2",
   "metadata": {},
   "outputs": [],
   "source": [
    "from sklearn.impute import SimpleImputer"
   ]
  },
  {
   "cell_type": "code",
   "execution_count": null,
   "id": "155c0fa2-4b5e-4f39-a673-7459245285a1",
   "metadata": {},
   "outputs": [],
   "source": [
    "imputer = SimpleImputer(strategy = 'mean')"
   ]
  },
  {
   "cell_type": "code",
   "execution_count": null,
   "id": "80cdb3c6-a659-45cd-bae3-322798492550",
   "metadata": {},
   "outputs": [],
   "source": [
    "weather_df[numeric_col].isna().sum()"
   ]
  },
  {
   "cell_type": "code",
   "execution_count": null,
   "id": "fedc48c6-b6b6-47ad-99b4-972c75cb3b60",
   "metadata": {},
   "outputs": [],
   "source": [
    "weather_df[categorical_col].isna().sum()"
   ]
  },
  {
   "cell_type": "code",
   "execution_count": null,
   "id": "2ef36ffd-179b-4883-9596-74c42e141d65",
   "metadata": {},
   "outputs": [],
   "source": []
  },
  {
   "cell_type": "code",
   "execution_count": null,
   "id": "9d612dfb-a7e8-4687-bbba-a4168e41aae3",
   "metadata": {},
   "outputs": [],
   "source": []
  }
 ],
 "metadata": {
  "kernelspec": {
   "display_name": "Python 3 (ipykernel)",
   "language": "python",
   "name": "python3"
  },
  "language_info": {
   "codemirror_mode": {
    "name": "ipython",
    "version": 3
   },
   "file_extension": ".py",
   "mimetype": "text/x-python",
   "name": "python",
   "nbconvert_exporter": "python",
   "pygments_lexer": "ipython3",
   "version": "3.11.7"
  }
 },
 "nbformat": 4,
 "nbformat_minor": 5
}
